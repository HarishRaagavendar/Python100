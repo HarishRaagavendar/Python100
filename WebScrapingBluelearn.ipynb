{
  "nbformat": 4,
  "nbformat_minor": 0,
  "metadata": {
    "colab": {
      "provenance": [],
      "authorship_tag": "ABX9TyOkAH4z0cG4+GfT/uDOeW3m",
      "include_colab_link": true
    },
    "kernelspec": {
      "name": "python3",
      "display_name": "Python 3"
    },
    "language_info": {
      "name": "python"
    }
  },
  "cells": [
    {
      "cell_type": "markdown",
      "metadata": {
        "id": "view-in-github",
        "colab_type": "text"
      },
      "source": [
        "<a href=\"https://colab.research.google.com/github/HarishRaagavendar/Python100/blob/main/WebScrapingBluelearn.ipynb\" target=\"_parent\"><img src=\"https://colab.research.google.com/assets/colab-badge.svg\" alt=\"Open In Colab\"/></a>"
      ]
    },
    {
      "cell_type": "code",
      "source": [
        "pip install beautifulsoup4"
      ],
      "metadata": {
        "colab": {
          "base_uri": "https://localhost:8080/"
        },
        "id": "urZOLe0Il6wh",
        "outputId": "f8e2562d-f6c7-41e6-eef8-279a086770a7"
      },
      "execution_count": null,
      "outputs": [
        {
          "output_type": "stream",
          "name": "stdout",
          "text": [
            "Requirement already satisfied: beautifulsoup4 in /usr/local/lib/python3.10/dist-packages (4.11.2)\n",
            "Requirement already satisfied: soupsieve>1.2 in /usr/local/lib/python3.10/dist-packages (from beautifulsoup4) (2.5)\n"
          ]
        }
      ]
    },
    {
      "cell_type": "code",
      "execution_count": null,
      "metadata": {
        "id": "uIyQZeVtlOQa"
      },
      "outputs": [],
      "source": [
        "import requests\n",
        "from bs4 import BeautifulSoup"
      ]
    },
    {
      "cell_type": "code",
      "source": [
        "url = \"https://en.wikipedia.org/wiki/List_of_stadiums_in_India\"\n",
        "req=requests.get(url)"
      ],
      "metadata": {
        "id": "_5fu93lylTs2"
      },
      "execution_count": null,
      "outputs": []
    },
    {
      "cell_type": "code",
      "source": [
        "req.status_code"
      ],
      "metadata": {
        "colab": {
          "base_uri": "https://localhost:8080/"
        },
        "id": "HWAtGNUflspU",
        "outputId": "57ad8447-93ad-4048-f9cd-9ab3ce285b73"
      },
      "execution_count": null,
      "outputs": [
        {
          "output_type": "execute_result",
          "data": {
            "text/plain": [
              "200"
            ]
          },
          "metadata": {},
          "execution_count": 15
        }
      ]
    },
    {
      "cell_type": "code",
      "source": [
        "soup=BeautifulSoup(req.text,'html.parser')\n",
        "soup.find('a',class_='wikitable sortable collapsible static-row-numbers mw-collapsible mw-made-collapsible jquery-tablesorter')"
      ],
      "metadata": {
        "colab": {
          "base_uri": "https://localhost:8080/"
        },
        "id": "EKdNeVLq8KkD",
        "outputId": "929e6d89-792c-476f-a198-351b5c5ee222"
      },
      "execution_count": null,
      "outputs": [
        {
          "output_type": "execute_result",
          "data": {
            "text/plain": [
              "<a class=\"mw-jump-link\" href=\"#bodyContent\">Jump to content</a>"
            ]
          },
          "metadata": {},
          "execution_count": 24
        }
      ]
    },
    {
      "cell_type": "code",
      "source": [
        "soup.text"
      ],
      "metadata": {
        "colab": {
          "base_uri": "https://localhost:8080/",
          "height": 109
        },
        "id": "UGqBhuBe9UOf",
        "outputId": "44399ad9-68ce-4b20-83c5-a878a4806fa5"
      },
      "execution_count": null,
      "outputs": [
        {
          "output_type": "execute_result",
          "data": {
            "text/plain": [
              "'\\n\\n\\n\\nstadium in india - Search results - Wikipedia\\n\\n\\n\\n\\n\\n\\n\\n\\n\\n\\n\\n\\n\\n\\n\\n\\n\\n\\n\\n\\n\\n\\n\\n\\nJump to content\\n\\n\\n\\n\\n\\n\\n\\nMain menu\\n\\n\\n\\n\\n\\nMain menu\\nmove to sidebar\\nhide\\n\\n\\n\\n\\t\\tNavigation\\n\\t\\n\\n\\nMain pageContentsCurrent eventsRandom articleAbout WikipediaContact usDonate\\n\\n\\n\\n\\n\\n\\t\\tContribute\\n\\t\\n\\n\\nHelpLearn to editCommunity portalRecent changesUpload file\\n\\n\\n\\n\\n\\n\\t\\tLanguages\\n\\t\\n\\n\\n\\n\\n\\n\\n\\n\\n\\n\\n\\n\\n\\n\\n\\n\\n\\n\\n\\n\\n\\n\\nSearch\\n\\n\\n\\n\\n\\n\\n\\n\\n\\n\\n\\nSearch\\n\\n\\n\\n\\n\\n\\n\\n\\n\\n\\n\\n\\n\\n\\n\\n\\n\\n\\n\\n\\n\\n\\n\\n\\n\\n\\n\\n\\n\\nCreate account\\n\\nLog in\\n\\n\\n\\n\\n\\n\\n\\n\\nPersonal tools\\n\\n\\n\\n\\n\\n Create account Log in\\n\\n\\n\\n\\n\\n\\t\\tPages for logged out editors learn more\\n\\n\\n\\nContributionsTalk\\n\\n\\n\\n\\n\\n\\n\\n\\n\\n\\n\\n\\n\\n\\n\\n\\n\\n\\n\\n\\n\\n\\n\\n\\n\\n\\n\\nSearch results\\n\\nHelp\\n\\n\\n\\n\\n\\n\\n\\n\\n\\n\\n\\n\\n\\n\\nEnglish\\n\\n\\n\\n\\n\\n\\n\\n\\n\\n\\n\\n\\n\\n\\n\\n\\n\\n\\n\\n\\n\\n\\n\\n\\nTools\\n\\n\\n\\n\\n\\nTools\\nmove to sidebar\\nhide\\n\\n\\n\\n\\t\\tActions\\n\\t\\n\\n\\n\\n\\n\\n\\n\\n\\t\\tGeneral\\n\\t\\n\\n\\nUpload fileSpecial pagesPrintable versionGet shortened URL\\n\\n\\n\\n\\n\\n\\n\\n\\n\\n\\n\\n\\n\\n\\n\\n\\n\\n\\n\\n\\n\\n\\n\\n\\n\\nSearchResults 1 – 20 of 21,283Content pagesMultimediaEverythingAdvanced\\nThe page \"Stadium in india\" does not exist. You can create a draft and submit it for review or request that a redirect be created, but consider checking the search results below to see whether the topic is already covered.View (previous 20 |  next 20) (20 | 50 | 100 | 250 | 500)\\n\\n\\t\\timage layout frameless\\n\\t\\nList of stadiums in India is a list of stadiums in India. Due to differences often arising between the planning and implementation stages for infrastructure in India, the list has... 42 KB (543 words) - 20:10, 5 January 2024India national cricket team world-class cricket stadiums in India. India currently has the world\\'s largest cricket stadium. The Narendra Modi Stadium, is a cricket stadium in Ahmedabad, Gujarat... 187 KB (12,425 words) - 03:44, 6 January 2024Jawaharlal Nehru Stadium (Delhi) Jawaharlal Nehru Stadium is a multi-sports stadium located in New Delhi, India. It is named after the first Prime Minister of India, Pandit Jawaharlal... 32 KB (2,542 words) - 15:40, 16 December 2023Narendra Modi Stadium Stadium (NMS), also known as NMS Stadium, Motera Stadium, is an international cricket stadium in Ahmedabad, Gujarat, India. It is the largest stadium... 70 KB (5,013 words) - 21:37, 26 December 2023\\n\\t\\timage layout frameless\\n\\t\\nList of football stadiums in India This is a list of football grounds in India that have been used for football matches. Note. † denotes stadiums that have hosted international football... 13 KB (484 words) - 20:28, 5 January 2024Bharat Ratna Shri Atal Bihari Vajpayee Ekana Cricket Stadium Ratna Shri Atal Bihari Vajpayee Ekana Cricket Stadium is an international cricket stadium in Lucknow, India. The arena has a seating capacity of 50,100... 26 KB (1,509 words) - 20:31, 21 December 2023List of Test cricket grounds (redirect from Cricket Stadium) venues. On 8 July 2009, Sophia Gardens in Cardiff became the 100th Test venue. The Ekana Cricket Stadium in India became the 121st and most recent Test... 77 KB (3,221 words) - 13:49, 3 January 2024Holkar Stadium Holkar Cricket Stadium is located in Indore, Madhya Pradesh, India. It is owned and operated by Madhya Pradesh Cricket Association and serves as its headquarter... 24 KB (1,537 words) - 15:13, 16 December 2023\\n\\t\\timage layout frameless\\n\\t\\nList of international cricket grounds in India Keenan Stadium in Jamshedpur. India played its first WODI against England on the same day at Eden Gardens in Calcutta. The first WT20I played in India was... 21 KB (772 words) - 05:23, 2 January 2024JSCA International Stadium Complex International Stadium Complex was inaugurated in January 2013. The first ODI match was played on January 19, 2013, between India and England. This stadium has organized... 15 KB (1,075 words) - 15:32, 16 December 2023Wankhede Stadium Wankhede Stadium (pronounced [ʋaːnkʰeɖe]) is an international cricket stadium in Mumbai, India. It is owned and operated by Mumbai Cricket Association... 33 KB (2,371 words) - 07:45, 2 January 2024\\n\\t\\timage layout frameless\\n\\t\\nSaurashtra Cricket Association Stadium Association Stadium, also known as the Khandheri Cricket Stadium, is a cricket stadium in Rajkot, India. It is Gujarat\\'s first solar-powered stadium. In 2013... 13 KB (881 words) - 08:07, 28 September 2023\\n\\t\\timage layout frameless\\n\\t\\nList of cricket grounds by capacity (redirect from Jaipur International Cricket Stadium) international cricket grounds in India List of cricket grounds in Australia List of cricket grounds in England and Wales \"ANZ Stadium (Stadium Australia) - Austadiums\"... 41 KB (481 words) - 22:28, 4 January 2024Himachal Pradesh Cricket Association Stadium Association Stadium (abbreviated as the HPCA Stadium) is an international cricket stadium in Dharamshala hill station of Himachal Pradesh, India. The stadium is... 14 KB (921 words) - 12:08, 4 January 2024DY Patil Stadium The DY Patil Stadium (also known as D Y Patil Sports Stadium) is a multi-purpose sports arena in Navi Mumbai, Maharashtra, India. It is owned by Marathi... 17 KB (1,666 words) - 13:07, 5 January 2024Rajiv Gandhi International Cricket Stadium International Cricket Stadium, commonly known as Uppal Stadium, is an international cricket stadium in Hyderabad, Telangana, India. It is owned and operated... 21 KB (1,403 words) - 07:46, 3 January 2024Jawaharlal Nehru Stadium (Kochi) International Stadium, also known as Kaloor Stadium, is a multi-purpose stadium in Ernakulam Kochi, Kerala, India. Since the 2017 renovation, the stadium has a... 40 KB (2,590 words) - 22:28, 4 January 2024Arun Jaitley Cricket Stadium four stands of the stadium after former India captain Bishan Singh Bedi, former India all-rounder Mohinder Amarnath, former India and Delhi opener Gautam... 21 KB (1,794 words) - 03:27, 4 January 2024Kalinga Stadium The Kalinga Stadium is a multi-purpose international sports complex in Bhubaneswar, Odisha, India. Its foundation stone was laid by the former chief minister... 20 KB (876 words) - 15:57, 5 January 2024Eden Gardens (redirect from Ranji Stadium) international cricket stadium in Kolkata, India. Established in 1864, it is the oldest and second-largest cricket stadium in India and third-largest in the world... 68 KB (4,330 words) - 14:43, 26 December 2023Texts from WikisourceAncient India as Described by Ptolemy McCrindle \\u200b ANCIENT INDIA AS DESCRIBED BY PTOLEMY; BEING A TRANSLATION OF THE CHAPTERS WHICH DESCRIBE INDIA AND CENTRAL AND EASTERN ASIA IN THE TREATISE ONSee all resultsQuotes from WikiquoteConstitution of India The Constitution of India is the supreme law of India. The document lays down the framework demarcating fundamental political code, structure, proceduresSee all resultsTextbooks from WikibooksGeneral Astronomy/The Early Origins of Astronomy The stadium was a common unit of distance in the ancient world, comparable to kilometers or miles in modern usage; the exact length meant by a stadium variedSee all resultsView (previous 20 |  next 20) (20 | 50 | 100 | 250 | 500)\\n\\nRetrieved from \"https://en.wikipedia.org/wiki/Special:Search\"\\n\\n\\n\\n\\n\\n\\n\\n\\n\\nPrivacy policy\\nAbout Wikipedia\\nDisclaimers\\nContact Wikipedia\\nCode of Conduct\\nDevelopers\\nStatistics\\nCookie statement\\nMobile view\\n\\n\\n\\n\\n\\n\\n\\n\\n\\n\\n\\n\\n\\nToggle limited content width\\n\\n\\n\\n\\n\\n\\n'"
            ],
            "application/vnd.google.colaboratory.intrinsic+json": {
              "type": "string"
            }
          },
          "metadata": {},
          "execution_count": 22
        }
      ]
    },
    {
      "cell_type": "code",
      "source": [],
      "metadata": {
        "id": "dD3F31o09ZIl"
      },
      "execution_count": null,
      "outputs": []
    }
  ]
}