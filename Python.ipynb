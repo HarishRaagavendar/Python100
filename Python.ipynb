{
  "nbformat": 4,
  "nbformat_minor": 0,
  "metadata": {
    "colab": {
      "provenance": [],
      "authorship_tag": "ABX9TyOXbPNwkmQAPyk+OirP7Mq+",
      "include_colab_link": true
    },
    "kernelspec": {
      "name": "python3",
      "display_name": "Python 3"
    },
    "language_info": {
      "name": "python"
    }
  },
  "cells": [
    {
      "cell_type": "markdown",
      "metadata": {
        "id": "view-in-github",
        "colab_type": "text"
      },
      "source": [
        "<a href=\"https://colab.research.google.com/github/HarishRaagavendar/Python100/blob/main/Python.ipynb\" target=\"_parent\"><img src=\"https://colab.research.google.com/assets/colab-badge.svg\" alt=\"Open In Colab\"/></a>"
      ]
    },
    {
      "cell_type": "code",
      "execution_count": null,
      "metadata": {
        "colab": {
          "base_uri": "https://localhost:8080/"
        },
        "id": "sLLqgbmtoSBf",
        "outputId": "17f4f5b3-ea6e-4021-c848-c551e133835d"
      },
      "outputs": [
        {
          "output_type": "stream",
          "name": "stdout",
          "text": [
            "Chicken Pizza.........300\n"
          ]
        }
      ],
      "source": [
        "a=\"Chicken Pizza\"\n",
        "b='300'\n",
        "total=len(a)+len(b)\n",
        "dots='.'*(25-total)\n",
        "print(a+dots+b)"
      ]
    },
    {
      "cell_type": "code",
      "source": [
        "num='4454 9098 5329 1143'\n",
        "\n",
        "last=num[15::]\n",
        "passw=('*'*4+' ')*3+last\n",
        "passw"
      ],
      "metadata": {
        "colab": {
          "base_uri": "https://localhost:8080/",
          "height": 36
        },
        "id": "M_qytLQi_bMA",
        "outputId": "4a0b5a2e-7011-472e-f8dc-74c830f2eebe"
      },
      "execution_count": null,
      "outputs": [
        {
          "output_type": "execute_result",
          "data": {
            "text/plain": [
              "'**** **** **** 1143'"
            ],
            "application/vnd.google.colaboratory.intrinsic+json": {
              "type": "string"
            }
          },
          "metadata": {},
          "execution_count": 6
        }
      ]
    },
    {
      "cell_type": "code",
      "source": [
        "email='harish@gmail.com'\n",
        "at=email.find('@')\n",
        "print('Username : ',email[:at])\n",
        "print('domain : ',email[at+1:-4])\n",
        "print('com :',email[-3:])"
      ],
      "metadata": {
        "colab": {
          "base_uri": "https://localhost:8080/"
        },
        "id": "z4PeudIUAyWE",
        "outputId": "c392292b-7294-449d-e2c5-730e1fcd9679"
      },
      "execution_count": null,
      "outputs": [
        {
          "output_type": "stream",
          "name": "stdout",
          "text": [
            "Username :  harish\n",
            "domain :  gmail\n",
            "com : com\n"
          ]
        }
      ]
    },
    {
      "cell_type": "code",
      "source": [
        "str1='dear'\n",
        "str2='raed'\n",
        "\n",
        "if len(str1)!=len(str2):\n",
        "  print(\"Not\")\n",
        "else:\n",
        "  for x in str1:\n",
        "    if x not in str2:\n",
        "      print(\"not\")\n",
        "      break\n",
        "  else:\n",
        "    print(\"anagram\")"
      ],
      "metadata": {
        "id": "uJaoxGMwJZP3"
      },
      "execution_count": null,
      "outputs": []
    },
    {
      "cell_type": "code",
      "source": [
        "import re\n",
        "match_object = re.match(r'(\\w+)@(\\w+)\\.(\\w+)', 'username@geekforgeeks.org')\n",
        "print(match_object.group(1, 2, 3))\n",
        "print(match_object.group())"
      ],
      "metadata": {
        "colab": {
          "base_uri": "https://localhost:8080/"
        },
        "id": "h1VFKV66wv7O",
        "outputId": "74bb8341-23a0-4c6a-b8bf-bbd29f8abc73"
      },
      "execution_count": null,
      "outputs": [
        {
          "output_type": "stream",
          "name": "stdout",
          "text": [
            "('username', 'geekforgeeks', 'org')\n",
            "username@geekforgeeks.org\n"
          ]
        }
      ]
    },
    {
      "cell_type": "code",
      "source": [
        "import re\n",
        "str='This is raining'\n"
      ],
      "metadata": {
        "id": "mSJxI6ttPnmk"
      },
      "execution_count": null,
      "outputs": []
    },
    {
      "cell_type": "code",
      "source": [
        "s=re.match('\\S',str)\n",
        "print(s)"
      ],
      "metadata": {
        "colab": {
          "base_uri": "https://localhost:8080/"
        },
        "id": "saQNYkCEPrRb",
        "outputId": "19a5e1dc-7086-4f5f-9581-786db7c35ae7"
      },
      "execution_count": null,
      "outputs": [
        {
          "output_type": "stream",
          "name": "stdout",
          "text": [
            "<re.Match object; span=(0, 1), match='T'>\n"
          ]
        }
      ]
    },
    {
      "cell_type": "code",
      "source": [
        "list1=[1,2,3,4]\n",
        "for i in range(len(list1),-1,-1):\n",
        "  print(i)"
      ],
      "metadata": {
        "id": "x8czKhAMP2Cv",
        "colab": {
          "base_uri": "https://localhost:8080/"
        },
        "outputId": "891db09c-70c8-402f-82f6-7531b18c1b38"
      },
      "execution_count": null,
      "outputs": [
        {
          "output_type": "stream",
          "name": "stdout",
          "text": [
            "4\n",
            "3\n",
            "2\n",
            "1\n",
            "0\n"
          ]
        }
      ]
    },
    {
      "cell_type": "code",
      "source": [
        "list1.pop()"
      ],
      "metadata": {
        "colab": {
          "base_uri": "https://localhost:8080/"
        },
        "id": "Zg6qeoeqWZ0n",
        "outputId": "9f08c34d-b80a-4c76-f25b-d07098d5f5b5"
      },
      "execution_count": null,
      "outputs": [
        {
          "output_type": "execute_result",
          "data": {
            "text/plain": [
              "4"
            ]
          },
          "metadata": {},
          "execution_count": 13
        }
      ]
    },
    {
      "cell_type": "code",
      "source": [
        "del list1[0]\n",
        "print(list1)"
      ],
      "metadata": {
        "colab": {
          "base_uri": "https://localhost:8080/"
        },
        "id": "iAUvizY_ib-h",
        "outputId": "01383baa-f048-4d81-e89f-8282a88f4afc"
      },
      "execution_count": null,
      "outputs": [
        {
          "output_type": "stream",
          "name": "stdout",
          "text": [
            "[3]\n"
          ]
        }
      ]
    },
    {
      "cell_type": "code",
      "source": [
        "a=[x for x in range(1,10)]\n",
        "a"
      ],
      "metadata": {
        "id": "30iF9SfYiztb",
        "colab": {
          "base_uri": "https://localhost:8080/"
        },
        "outputId": "c74576ba-843b-4d69-830c-b45afe72bca7"
      },
      "execution_count": null,
      "outputs": [
        {
          "output_type": "execute_result",
          "data": {
            "text/plain": [
              "[1, 2, 3, 4, 5, 6, 7, 8, 9]"
            ]
          },
          "metadata": {},
          "execution_count": 1
        }
      ]
    },
    {
      "cell_type": "code",
      "source": [
        "l=[x.lower() for x in 'Python']\n",
        "l"
      ],
      "metadata": {
        "colab": {
          "base_uri": "https://localhost:8080/"
        },
        "id": "T0OrW5HrT4nf",
        "outputId": "639ae0c9-84a2-46e7-d3f4-367f02e0274d"
      },
      "execution_count": null,
      "outputs": [
        {
          "output_type": "execute_result",
          "data": {
            "text/plain": [
              "['p', 'y', 't', 'h', 'o', 'n']"
            ]
          },
          "metadata": {},
          "execution_count": 2
        }
      ]
    },
    {
      "cell_type": "code",
      "source": [
        "l=[x**2 for x in range(0,5) if x%2==0]\n",
        "l"
      ],
      "metadata": {
        "colab": {
          "base_uri": "https://localhost:8080/"
        },
        "id": "YIx9oB0NUALH",
        "outputId": "254a0c93-7e76-4008-a7dd-81fe389dfcf6"
      },
      "execution_count": null,
      "outputs": [
        {
          "output_type": "execute_result",
          "data": {
            "text/plain": [
              "[0, 4, 16]"
            ]
          },
          "metadata": {},
          "execution_count": 4
        }
      ]
    },
    {
      "cell_type": "code",
      "source": [
        "day=[int(x) for x in input(\"Enter the working hours \").split()]\n",
        "wages=70\n",
        "total=sum(day)\n",
        "sal=total*wages\n",
        "sal"
      ],
      "metadata": {
        "colab": {
          "base_uri": "https://localhost:8080/"
        },
        "id": "hTV08iNIV1aN",
        "outputId": "f9ca1442-1223-4b39-b74b-ec8e0d0fed75"
      },
      "execution_count": null,
      "outputs": [
        {
          "name": "stdout",
          "output_type": "stream",
          "text": [
            "Enter the working hours 10 10 10 10 10\n"
          ]
        },
        {
          "output_type": "execute_result",
          "data": {
            "text/plain": [
              "3500"
            ]
          },
          "metadata": {},
          "execution_count": 10
        }
      ]
    },
    {
      "cell_type": "code",
      "source": [
        "x=[3,5,7,2]\n",
        "s=''\n",
        "for i in x:\n",
        "  s+=str(i)\n",
        "print(int(s))"
      ],
      "metadata": {
        "colab": {
          "base_uri": "https://localhost:8080/"
        },
        "id": "kwZp0ecZZ-QW",
        "outputId": "2102c284-f9df-4016-a03f-79a629115266"
      },
      "execution_count": null,
      "outputs": [
        {
          "output_type": "stream",
          "name": "stdout",
          "text": [
            "3572\n"
          ]
        }
      ]
    },
    {
      "cell_type": "code",
      "source": [
        "l2=['A','B','C','D','A','B','C','D','E','B']\n",
        "res=[]\n",
        "for i in l2:\n",
        "  if i not in res:\n",
        "    res.append(i)\n",
        "    cnt=l2.count(i)\n",
        "    res.append(cnt)\n",
        "print(res)"
      ],
      "metadata": {
        "id": "2K2UXhvvgE9W",
        "colab": {
          "base_uri": "https://localhost:8080/"
        },
        "outputId": "76c670da-38d2-41f2-b824-d62b9262d3f9"
      },
      "execution_count": null,
      "outputs": [
        {
          "output_type": "stream",
          "name": "stdout",
          "text": [
            "['A', 2, 'B', 3, 'C', 2, 'D', 2, 'E', 1]\n"
          ]
        }
      ]
    },
    {
      "cell_type": "code",
      "source": [
        "a=[[1,2,3],[3,2,1],[1,3,5]]\n",
        "b=[[3,2,1],[1,2,3],[3,2,1]]\n",
        "l=[]\n",
        "for i in range(3):\n",
        "  s=[]\n",
        "  for j in range(3):\n",
        "    r=a[j][i]\n",
        "    s.append(r)\n",
        "  l.append(s)\n",
        "\n",
        "l\n"
      ],
      "metadata": {
        "id": "xfNUhsxKZcgj",
        "colab": {
          "base_uri": "https://localhost:8080/"
        },
        "outputId": "292830bb-6eca-40b4-c14d-1653a5fb63e0"
      },
      "execution_count": null,
      "outputs": [
        {
          "output_type": "execute_result",
          "data": {
            "text/plain": [
              "[[1, 3, 1], [2, 2, 3], [3, 1, 5]]"
            ]
          },
          "metadata": {},
          "execution_count": 11
        }
      ]
    },
    {
      "cell_type": "code",
      "source": [
        "a=1,'raj',2,3,4\n",
        "type(a)"
      ],
      "metadata": {
        "id": "nswBeKbbuP36",
        "colab": {
          "base_uri": "https://localhost:8080/"
        },
        "outputId": "8c7d6934-a7cb-4d7a-dd92-337c9a560b1e"
      },
      "execution_count": null,
      "outputs": [
        {
          "output_type": "execute_result",
          "data": {
            "text/plain": [
              "tuple"
            ]
          },
          "metadata": {},
          "execution_count": 1
        }
      ]
    },
    {
      "cell_type": "code",
      "source": [
        "t=(*(x for x in range(10)),)\n",
        "t"
      ],
      "metadata": {
        "colab": {
          "base_uri": "https://localhost:8080/"
        },
        "id": "BBXkRqFH3VqC",
        "outputId": "6ee0df20-6c3c-4618-f544-ac24ec31c7a3"
      },
      "execution_count": null,
      "outputs": [
        {
          "output_type": "execute_result",
          "data": {
            "text/plain": [
              "(0, 1, 2, 3, 4, 5, 6, 7, 8, 9)"
            ]
          },
          "metadata": {},
          "execution_count": 2
        }
      ]
    },
    {
      "cell_type": "code",
      "source": [],
      "metadata": {
        "id": "iUZv0RNm4_Ry"
      },
      "execution_count": null,
      "outputs": []
    }
  ]
}